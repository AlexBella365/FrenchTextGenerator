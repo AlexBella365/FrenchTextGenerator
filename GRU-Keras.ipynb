{
 "cells": [
  {
   "cell_type": "code",
   "execution_count": 87,
   "metadata": {
    "collapsed": true
   },
   "outputs": [],
   "source": [
    "import warnings\n",
    "warnings.filterwarnings(action='ignore')"
   ]
  },
  {
   "cell_type": "code",
   "execution_count": 2,
   "metadata": {},
   "outputs": [],
   "source": [
    "import numpy as np\n",
    "import pickle\n",
    "import re\n",
    "\n",
    "import keras"
   ]
  },
  {
   "cell_type": "markdown",
   "metadata": {},
   "source": [
    "## Open and preprocess text"
   ]
  },
  {
   "cell_type": "code",
   "execution_count": 222,
   "metadata": {
    "collapsed": true
   },
   "outputs": [],
   "source": [
    "with open(\"data/moliere_1_clean.txt\") as f1:\n",
    "    moliere_1 = f1.read()\n",
    "with open(\"data/moliere_2_clean.txt\") as f2:\n",
    "    moliere_2 = f2.read()\n",
    "with open(\"data/moliere_3_clean.txt\") as f3:\n",
    "    moliere_3 = f3.read()"
   ]
  },
  {
   "cell_type": "code",
   "execution_count": 223,
   "metadata": {},
   "outputs": [
    {
     "data": {
      "text/plain": [
       "412476"
      ]
     },
     "execution_count": 223,
     "metadata": {},
     "output_type": "execute_result"
    }
   ],
   "source": [
    "text = moliere_1 #+ ' ' + moliere_2 + ' ' + moliere_3\n",
    "len(text)"
   ]
  },
  {
   "cell_type": "markdown",
   "metadata": {},
   "source": [
    "### Remove special characters"
   ]
  },
  {
   "cell_type": "code",
   "execution_count": 246,
   "metadata": {},
   "outputs": [
    {
     "data": {
      "text/plain": [
       "'Eh bien, Sabine, quel conseil me donnes-tu? Vraiment, il y a bien des nouvelles. Mon oncle veut réso'"
      ]
     },
     "execution_count": 246,
     "metadata": {},
     "output_type": "execute_result"
    }
   ],
   "source": [
    "text = text.replace('œ','oe')\n",
    "text = text.replace('æ','ae')\n",
    "text = text.replace('î','i')\n",
    "text = text.replace('ï','i')\n",
    "text = text.replace('º','')\n",
    "text = text.replace('_','')\n",
    "text = text.replace('ñ','n')\n",
    "text = text.replace('λ','')\n",
    "text = text.replace('ο','')\n",
    "text = text.replace('ρ','')\n",
    "text = text.replace('ς','')\n",
    "text = text.replace('φ','')\n",
    "text = text.replace('β','')\n",
    "text = text.replace('ε','')\n",
    "text = text.replace('ι','')\n",
    "\n",
    "text = text.replace('\\n',' ')\n",
    "\n",
    "text = re.sub(r'( )+',' ',text) #remove multiple spaces\n",
    "\n",
    "text[:100]"
   ]
  },
  {
   "cell_type": "code",
   "execution_count": 247,
   "metadata": {},
   "outputs": [
    {
     "name": "stdout",
     "output_type": "stream",
     "text": [
      "Length of vocab: 87\n",
      "[' ', '!', \"'\", '(', ')', ',', '-', '.', '0', '1', '2', '3', '4', '5', '6', '7', '8', '9', ':', ';', '?', 'A', 'B', 'C', 'D', 'E', 'F', 'G', 'H', 'I', 'J', 'K', 'L', 'M', 'N', 'O', 'P', 'Q', 'R', 'S', 'T', 'U', 'V', 'X', 'Y', 'Z', 'a', 'b', 'c', 'd', 'e', 'f', 'g', 'h', 'i', 'j', 'k', 'l', 'm', 'n', 'o', 'p', 'q', 'r', 's', 't', 'u', 'v', 'w', 'x', 'y', 'z', '«', '»', 'Ç', 'É', 'Ê', 'à', 'â', 'ç', 'è', 'é', 'ê', 'ë', 'ô', 'ù', 'û']\n"
     ]
    }
   ],
   "source": [
    "character_list = sorted(set(text))\n",
    "N_char = len(character_list)\n",
    "\n",
    "print('Length of vocab:',N_char)\n",
    "print(character_list)"
   ]
  },
  {
   "cell_type": "markdown",
   "metadata": {},
   "source": [
    "### Tokenize text"
   ]
  },
  {
   "cell_type": "raw",
   "metadata": {},
   "source": [
    "import spacy\n",
    "nlp = spacy.load('fr_core_news_sm')\n",
    "nlp(text)"
   ]
  },
  {
   "cell_type": "code",
   "execution_count": 248,
   "metadata": {},
   "outputs": [],
   "source": [
    "from nltk.tokenize import sent_tokenize\n",
    "sentences = sent_tokenize(text)"
   ]
  },
  {
   "cell_type": "code",
   "execution_count": 249,
   "metadata": {},
   "outputs": [
    {
     "data": {
      "text/plain": [
       "1234"
      ]
     },
     "execution_count": 249,
     "metadata": {},
     "output_type": "execute_result"
    }
   ],
   "source": [
    "max([len(sent) for sent in sentences])"
   ]
  },
  {
   "cell_type": "markdown",
   "metadata": {},
   "source": [
    "### Encode characters"
   ]
  },
  {
   "cell_type": "code",
   "execution_count": 324,
   "metadata": {},
   "outputs": [
    {
     "name": "stdout",
     "output_type": "stream",
     "text": [
      "{' ': 0, '!': 1, \"'\": 2, '(': 3, ')': 4, ',': 5, '-': 6, '.': 7, '0': 8, '1': 9, '2': 10, '3': 11, '4': 12, '5': 13, '6': 14, '7': 15, '8': 16, '9': 17, ':': 18, ';': 19, '?': 20, 'A': 21, 'B': 22, 'C': 23, 'D': 24, 'E': 25, 'F': 26, 'G': 27, 'H': 28, 'I': 29, 'J': 30, 'K': 31, 'L': 32, 'M': 33, 'N': 34, 'O': 35, 'P': 36, 'Q': 37, 'R': 38, 'S': 39, 'T': 40, 'U': 41, 'V': 42, 'X': 43, 'Y': 44, 'Z': 45, 'a': 46, 'b': 47, 'c': 48, 'd': 49, 'e': 50, 'f': 51, 'g': 52, 'h': 53, 'i': 54, 'j': 55, 'k': 56, 'l': 57, 'm': 58, 'n': 59, 'o': 60, 'p': 61, 'q': 62, 'r': 63, 's': 64, 't': 65, 'u': 66, 'v': 67, 'w': 68, 'x': 69, 'y': 70, 'z': 71, '«': 72, '»': 73, 'Ç': 74, 'É': 75, 'Ê': 76, 'à': 77, 'â': 78, 'ç': 79, 'è': 80, 'é': 81, 'ê': 82, 'ë': 83, 'ô': 84, 'ù': 85, 'û': 86}\n"
     ]
    }
   ],
   "source": [
    "char2code = {}\n",
    "for k, word in enumerate(character_list):\n",
    "    char2code[word] = k\n",
    "    \n",
    "print(char2code)"
   ]
  },
  {
   "cell_type": "code",
   "execution_count": 325,
   "metadata": {},
   "outputs": [
    {
     "name": "stdout",
     "output_type": "stream",
     "text": [
      "{0: ' ', 1: '!', 2: \"'\", 3: '(', 4: ')', 5: ',', 6: '-', 7: '.', 8: '0', 9: '1', 10: '2', 11: '3', 12: '4', 13: '5', 14: '6', 15: '7', 16: '8', 17: '9', 18: ':', 19: ';', 20: '?', 21: 'A', 22: 'B', 23: 'C', 24: 'D', 25: 'E', 26: 'F', 27: 'G', 28: 'H', 29: 'I', 30: 'J', 31: 'K', 32: 'L', 33: 'M', 34: 'N', 35: 'O', 36: 'P', 37: 'Q', 38: 'R', 39: 'S', 40: 'T', 41: 'U', 42: 'V', 43: 'X', 44: 'Y', 45: 'Z', 46: 'a', 47: 'b', 48: 'c', 49: 'd', 50: 'e', 51: 'f', 52: 'g', 53: 'h', 54: 'i', 55: 'j', 56: 'k', 57: 'l', 58: 'm', 59: 'n', 60: 'o', 61: 'p', 62: 'q', 63: 'r', 64: 's', 65: 't', 66: 'u', 67: 'v', 68: 'w', 69: 'x', 70: 'y', 71: 'z', 72: '«', 73: '»', 74: 'Ç', 75: 'É', 76: 'Ê', 77: 'à', 78: 'â', 79: 'ç', 80: 'è', 81: 'é', 82: 'ê', 83: 'ë', 84: 'ô', 85: 'ù', 86: 'û'}\n"
     ]
    }
   ],
   "source": [
    "code2char = {v:k for k,v in char2code.items()}\n",
    "print(code2char)"
   ]
  },
  {
   "cell_type": "code",
   "execution_count": 403,
   "metadata": {
    "collapsed": true
   },
   "outputs": [],
   "source": [
    "def encode(seq):\n",
    "    if not isinstance(seq,str):\n",
    "        seq = str(seq)\n",
    "    return [char2code[ch] for ch in list(seq)]"
   ]
  },
  {
   "cell_type": "code",
   "execution_count": 396,
   "metadata": {
    "collapsed": true
   },
   "outputs": [],
   "source": [
    "def decode(encoded):\n",
    "    if not isinstance(encoded,list):\n",
    "        encoded = [encoded] \n",
    "    return ''.join([code2char[e] for e in encoded]).strip()"
   ]
  },
  {
   "cell_type": "markdown",
   "metadata": {},
   "source": [
    "### One-hot encoding"
   ]
  },
  {
   "cell_type": "code",
   "execution_count": 278,
   "metadata": {
    "collapsed": true
   },
   "outputs": [],
   "source": [
    "def one_hots(numerical_list, vocab_size=N_char):\n",
    "    result = np.zeros((len(numerical_list), vocab_size))\n",
    "    for i, idx in enumerate(numerical_list):\n",
    "        result[i, idx] = 1.0\n",
    "    return result"
   ]
  },
  {
   "cell_type": "code",
   "execution_count": 279,
   "metadata": {
    "collapsed": true
   },
   "outputs": [],
   "source": [
    "def textify(embedding,character_list = character_list):\n",
    "    result = \"\"\n",
    "    indices = np.argmax(embedding, axis=1)\n",
    "    for idx in indices:\n",
    "        result += character_list[int(idx)]\n",
    "    return result"
   ]
  },
  {
   "cell_type": "markdown",
   "metadata": {},
   "source": [
    "### Prepare dataset"
   ]
  },
  {
   "cell_type": "code",
   "execution_count": 345,
   "metadata": {},
   "outputs": [
    {
     "data": {
      "text/plain": [
       "(412249, 87)"
      ]
     },
     "execution_count": 345,
     "metadata": {},
     "output_type": "execute_result"
    }
   ],
   "source": [
    "raw = one_hots(encode(text))\n",
    "raw.shape"
   ]
  },
  {
   "cell_type": "code",
   "execution_count": 346,
   "metadata": {},
   "outputs": [],
   "source": [
    "window_size = 32\n",
    "step = 4\n",
    "x,y = [], []\n",
    "\n",
    "for k in range(window_size,L):\n",
    "    x.append(raw[k-window_size:k,:])\n",
    "    y.append(raw[k,:])"
   ]
  },
  {
   "cell_type": "code",
   "execution_count": 347,
   "metadata": {},
   "outputs": [
    {
     "data": {
      "text/plain": [
       "(412217, 32, 87)"
      ]
     },
     "execution_count": 347,
     "metadata": {},
     "output_type": "execute_result"
    }
   ],
   "source": [
    "X = np.array(x)\n",
    "Y = np.array(y)\n",
    "print(X.shape,Y.shape)"
   ]
  },
  {
   "cell_type": "code",
   "execution_count": 349,
   "metadata": {},
   "outputs": [
    {
     "name": "stdout",
     "output_type": "stream",
     "text": [
      "(288551, 32, 87) (123666, 32, 87)\n"
     ]
    }
   ],
   "source": [
    "trainX, testX, trainY, testY = train_test_split(X,Y,train_size=0.7,shuffle=False)\n",
    "print(trainX.shape,testX.shape)"
   ]
  },
  {
   "cell_type": "markdown",
   "metadata": {},
   "source": [
    "## Keras model"
   ]
  },
  {
   "cell_type": "code",
   "execution_count": 198,
   "metadata": {},
   "outputs": [],
   "source": [
    "from keras.models import Sequential\n",
    "from keras.optimizers import RMSprop\n",
    "from keras.layers import Dense, GRU#, Embedding\n",
    "\n",
    "from sklearn.metrics import mean_squared_error"
   ]
  },
  {
   "cell_type": "markdown",
   "metadata": {},
   "source": [
    "keras.layers.GRU(units, activation='tanh', recurrent_activation='hard_sigmoid', use_bias=True, kernel_initializer='glorot_uniform', recurrent_initializer='orthogonal', bias_initializer='zeros', kernel_regularizer=None, recurrent_regularizer=None, bias_regularizer=None, activity_regularizer=None, kernel_constraint=None, recurrent_constraint=None, bias_constraint=None, dropout=0.0, recurrent_dropout=0.0, implementation=1, return_sequences=False, return_state=False, go_backwards=False, stateful=False, unroll=False, reset_after=False)\n",
    "\n",
    "Input shape: 3D tensor with shape (batch_size, timesteps, input_dim)"
   ]
  },
  {
   "cell_type": "code",
   "execution_count": 358,
   "metadata": {},
   "outputs": [
    {
     "name": "stdout",
     "output_type": "stream",
     "text": [
      "_________________________________________________________________\n",
      "Layer (type)                 Output Shape              Param #   \n",
      "=================================================================\n",
      "gru_25 (GRU)                 (None, 32)                11520     \n",
      "_________________________________________________________________\n",
      "dense_23 (Dense)             (None, 87)                2871      \n",
      "=================================================================\n",
      "Total params: 14,391\n",
      "Trainable params: 14,391\n",
      "Non-trainable params: 0\n",
      "_________________________________________________________________\n"
     ]
    }
   ],
   "source": [
    "model = Sequential()\n",
    "#model.add(Embedding(N_features,32))\n",
    "model.add(GRU(32,input_shape=(window_size,N_char)))\n",
    "model.add(Dense(N_char,activation='softmax'))\n",
    "\n",
    "optimizer = RMSprop(lr=0.01)\n",
    "model.compile(loss='categorical_crossentropy', optimizer=optimizer)\n",
    "model.summary()"
   ]
  },
  {
   "cell_type": "code",
   "execution_count": 422,
   "metadata": {},
   "outputs": [
    {
     "name": "stdout",
     "output_type": "stream",
     "text": [
      "Epoch 1/20\n",
      "412217/412217 [==============================] - 131s 317us/step - loss: 1.9464\n",
      "Epoch 2/20\n",
      "412217/412217 [==============================] - 117s 283us/step - loss: 1.7842\n",
      "Epoch 3/20\n",
      "412217/412217 [==============================] - 116s 282us/step - loss: 1.7517\n",
      "Epoch 4/20\n",
      "412217/412217 [==============================] - 110s 268us/step - loss: 1.7348\n",
      "Epoch 5/20\n",
      "412217/412217 [==============================] - 121s 293us/step - loss: 1.7236\n",
      "Epoch 6/20\n",
      "412217/412217 [==============================] - 117s 285us/step - loss: 1.7161\n",
      "Epoch 7/20\n",
      "412217/412217 [==============================] - 118s 285us/step - loss: 1.7092\n",
      "Epoch 8/20\n",
      "412217/412217 [==============================] - 117s 285us/step - loss: 1.7060\n",
      "Epoch 9/20\n",
      "412217/412217 [==============================] - 120s 291us/step - loss: 1.7024\n",
      "Epoch 10/20\n",
      "412217/412217 [==============================] - 118s 287us/step - loss: 1.6992\n",
      "Epoch 11/20\n",
      "412217/412217 [==============================] - 3731s 9ms/step - loss: 1.6957\n",
      "Epoch 12/20\n",
      "412217/412217 [==============================] - 2532s 6ms/step - loss: 1.6936\n",
      "Epoch 13/20\n",
      "412217/412217 [==============================] - 1048s 3ms/step - loss: 1.6923\n",
      "Epoch 14/20\n",
      "412217/412217 [==============================] - 120s 290us/step - loss: 1.6897\n",
      "Epoch 15/20\n",
      "412217/412217 [==============================] - 109s 264us/step - loss: 1.6879\n",
      "Epoch 16/20\n",
      "412217/412217 [==============================] - 108s 262us/step - loss: 1.6871\n",
      "Epoch 17/20\n",
      "412217/412217 [==============================] - 120s 291us/step - loss: 1.6858\n",
      "Epoch 18/20\n",
      "412217/412217 [==============================] - 134s 326us/step - loss: 1.6839\n",
      "Epoch 19/20\n",
      "412217/412217 [==============================] - 135s 327us/step - loss: 1.6840\n",
      "Epoch 20/20\n",
      "412217/412217 [==============================] - 133s 323us/step - loss: 1.6829\n"
     ]
    }
   ],
   "source": [
    "history = model.fit(X, Y, batch_size=128, epochs=20)"
   ]
  },
  {
   "cell_type": "code",
   "execution_count": 416,
   "metadata": {
    "collapsed": true
   },
   "outputs": [],
   "source": [
    "def sample(preds, temperature=1.0):\n",
    "    # helper function to sample an index from a probability array\n",
    "    preds = np.asarray(encode(preds)).astype('float64')\n",
    "    preds = np.log(preds) / temperature\n",
    "    exp_preds = np.exp(preds)\n",
    "    preds = exp_preds / np.sum(exp_preds)\n",
    "    probas = np.random.multinomial(1, preds, 1)\n",
    "\n",
    "    return decode(np.argmax(probas))"
   ]
  },
  {
   "cell_type": "code",
   "execution_count": 417,
   "metadata": {
    "collapsed": true
   },
   "outputs": [],
   "source": [
    "def multi_sample(preds,n=10,temperature=1.0):\n",
    "    result = []\n",
    "    for _ in range(n):\n",
    "        this = sample(preds,temperature)\n",
    "        result.append(this)\n",
    "        preds+=this\n",
    "    return result"
   ]
  },
  {
   "cell_type": "code",
   "execution_count": 418,
   "metadata": {
    "collapsed": true
   },
   "outputs": [],
   "source": [
    "def predict_following(preds,n=10,temperature=1.0):\n",
    "    return preds + ''.join(multi_sample(preds,n,temperature))"
   ]
  },
  {
   "cell_type": "code",
   "execution_count": 423,
   "metadata": {},
   "outputs": [
    {
     "data": {
      "text/plain": [
       "\"bonjo'))-!()(2!\""
      ]
     },
     "execution_count": 423,
     "metadata": {},
     "output_type": "execute_result"
    }
   ],
   "source": [
    "predict_following('bonjo',temperature=0.5)\n",
    "predict_following('bonjo',temperature=1.0)\n",
    "predict_following('bonjo',temperature=2.0)"
   ]
  },
  {
   "cell_type": "code",
   "execution_count": 424,
   "metadata": {},
   "outputs": [
    {
     "data": {
      "image/png": "[encoded data removed]",
      "text/plain": [
       "<Figure size 4800x1600 with 1 Axes>"
      ]
     },
     "metadata": {},
     "output_type": "display_data"
    }
   ],
   "source": [
    "import matplotlib.pyplot as plt\n",
    "%matplotlib inline\n",
    "\n",
    "plt.figure(figsize=(24, 8), dpi= 200)\n",
    "#plt.xscale('log')\n",
    "#plt.yscale('log')\n",
    "plt.plot(history.history['loss'],'.-')\n",
    "plt.grid()"
   ]
  },
  {
   "cell_type": "code",
   "execution_count": null,
   "metadata": {
    "collapsed": true
   },
   "outputs": [],
   "source": []
  }
 ],
 "metadata": {
  "kernelspec": {
   "display_name": "Python 3",
   "language": "python",
   "name": "python3"
  },
  "language_info": {
   "codemirror_mode": {
    "name": "ipython",
    "version": 3
   },
   "file_extension": ".py",
   "mimetype": "text/x-python",
   "name": "python",
   "nbconvert_exporter": "python",
   "pygments_lexer": "ipython3",
   "version": "3.6.6"
  }
 },
 "nbformat": 4,
 "nbformat_minor": 2
}
