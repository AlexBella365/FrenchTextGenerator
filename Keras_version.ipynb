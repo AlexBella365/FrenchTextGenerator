{
 "cells": [
  {
   "cell_type": "code",
   "execution_count": 2,
   "metadata": {
    "collapsed": true
   },
   "outputs": [],
   "source": [
    "import warnings\n",
    "warnings.filterwarnings(action='ignore')"
   ]
  },
  {
   "cell_type": "code",
   "execution_count": 3,
   "metadata": {},
   "outputs": [
    {
     "name": "stderr",
     "output_type": "stream",
     "text": [
      "Using TensorFlow backend.\n"
     ]
    }
   ],
   "source": [
    "import numpy as np\n",
    "import pickle\n",
    "import re\n",
    "\n",
    "import keras"
   ]
  },
  {
   "cell_type": "markdown",
   "metadata": {},
   "source": [
    "## Open and preprocess text"
   ]
  },
  {
   "cell_type": "code",
   "execution_count": 4,
   "metadata": {
    "collapsed": true
   },
   "outputs": [],
   "source": [
    "with open(\"data/moliere_1_clean.txt\") as f1:\n",
    "    moliere_1 = f1.read()\n",
    "with open(\"data/moliere_2_clean.txt\") as f2:\n",
    "    moliere_2 = f2.read()\n",
    "with open(\"data/moliere_3_clean.txt\") as f3:\n",
    "    moliere_3 = f3.read()"
   ]
  },
  {
   "cell_type": "code",
   "execution_count": 5,
   "metadata": {},
   "outputs": [
    {
     "data": {
      "text/plain": [
       "412476"
      ]
     },
     "execution_count": 5,
     "metadata": {},
     "output_type": "execute_result"
    }
   ],
   "source": [
    "text = moliere_1 #+ ' ' + moliere_2 + ' ' + moliere_3\n",
    "len(text)"
   ]
  },
  {
   "cell_type": "markdown",
   "metadata": {},
   "source": [
    "### Remove special characters"
   ]
  },
  {
   "cell_type": "code",
   "execution_count": 6,
   "metadata": {},
   "outputs": [
    {
     "data": {
      "text/plain": [
       "'Eh bien, Sabine, quel conseil me donnes-tu? Vraiment, il y a bien des nouvelles. Mon oncle veut réso'"
      ]
     },
     "execution_count": 6,
     "metadata": {},
     "output_type": "execute_result"
    }
   ],
   "source": [
    "text = text.replace('œ','oe')\n",
    "text = text.replace('æ','ae')\n",
    "text = text.replace('î','i')\n",
    "text = text.replace('ï','i')\n",
    "text = text.replace('º','')\n",
    "text = text.replace('_','')\n",
    "text = text.replace('ñ','n')\n",
    "text = text.replace('λ','')\n",
    "text = text.replace('ο','')\n",
    "text = text.replace('ρ','')\n",
    "text = text.replace('ς','')\n",
    "text = text.replace('φ','')\n",
    "text = text.replace('β','')\n",
    "text = text.replace('ε','')\n",
    "text = text.replace('ι','')\n",
    "\n",
    "text = text.replace('\\n',' ')\n",
    "\n",
    "text = re.sub(r'( )+',' ',text) #remove multiple spaces\n",
    "\n",
    "text[:100]"
   ]
  },
  {
   "cell_type": "code",
   "execution_count": 7,
   "metadata": {},
   "outputs": [
    {
     "name": "stdout",
     "output_type": "stream",
     "text": [
      "Length of vocab: 87\n",
      "[' ', '!', \"'\", '(', ')', ',', '-', '.', '0', '1', '2', '3', '4', '5', '6', '7', '8', '9', ':', ';', '?', 'A', 'B', 'C', 'D', 'E', 'F', 'G', 'H', 'I', 'J', 'K', 'L', 'M', 'N', 'O', 'P', 'Q', 'R', 'S', 'T', 'U', 'V', 'X', 'Y', 'Z', 'a', 'b', 'c', 'd', 'e', 'f', 'g', 'h', 'i', 'j', 'k', 'l', 'm', 'n', 'o', 'p', 'q', 'r', 's', 't', 'u', 'v', 'w', 'x', 'y', 'z', '«', '»', 'Ç', 'É', 'Ê', 'à', 'â', 'ç', 'è', 'é', 'ê', 'ë', 'ô', 'ù', 'û']\n"
     ]
    }
   ],
   "source": [
    "character_list = sorted(set(text))\n",
    "N_char = len(character_list)\n",
    "\n",
    "print('Length of vocab:',N_char)\n",
    "print(character_list)"
   ]
  },
  {
   "cell_type": "markdown",
   "metadata": {},
   "source": [
    "### Tokenize text"
   ]
  },
  {
   "cell_type": "raw",
   "metadata": {},
   "source": [
    "import spacy\n",
    "nlp = spacy.load('fr_core_news_sm')\n",
    "nlp(text)"
   ]
  },
  {
   "cell_type": "code",
   "execution_count": 8,
   "metadata": {},
   "outputs": [],
   "source": [
    "from nltk.tokenize import sent_tokenize\n",
    "sentences = sent_tokenize(text)"
   ]
  },
  {
   "cell_type": "code",
   "execution_count": 9,
   "metadata": {},
   "outputs": [
    {
     "data": {
      "text/plain": [
       "1234"
      ]
     },
     "execution_count": 9,
     "metadata": {},
     "output_type": "execute_result"
    }
   ],
   "source": [
    "max([len(sent) for sent in sentences])"
   ]
  },
  {
   "cell_type": "markdown",
   "metadata": {},
   "source": [
    "### Encode characters"
   ]
  },
  {
   "cell_type": "code",
   "execution_count": 10,
   "metadata": {},
   "outputs": [
    {
     "name": "stdout",
     "output_type": "stream",
     "text": [
      "{' ': 0, '!': 1, \"'\": 2, '(': 3, ')': 4, ',': 5, '-': 6, '.': 7, '0': 8, '1': 9, '2': 10, '3': 11, '4': 12, '5': 13, '6': 14, '7': 15, '8': 16, '9': 17, ':': 18, ';': 19, '?': 20, 'A': 21, 'B': 22, 'C': 23, 'D': 24, 'E': 25, 'F': 26, 'G': 27, 'H': 28, 'I': 29, 'J': 30, 'K': 31, 'L': 32, 'M': 33, 'N': 34, 'O': 35, 'P': 36, 'Q': 37, 'R': 38, 'S': 39, 'T': 40, 'U': 41, 'V': 42, 'X': 43, 'Y': 44, 'Z': 45, 'a': 46, 'b': 47, 'c': 48, 'd': 49, 'e': 50, 'f': 51, 'g': 52, 'h': 53, 'i': 54, 'j': 55, 'k': 56, 'l': 57, 'm': 58, 'n': 59, 'o': 60, 'p': 61, 'q': 62, 'r': 63, 's': 64, 't': 65, 'u': 66, 'v': 67, 'w': 68, 'x': 69, 'y': 70, 'z': 71, '«': 72, '»': 73, 'Ç': 74, 'É': 75, 'Ê': 76, 'à': 77, 'â': 78, 'ç': 79, 'è': 80, 'é': 81, 'ê': 82, 'ë': 83, 'ô': 84, 'ù': 85, 'û': 86}\n"
     ]
    }
   ],
   "source": [
    "char2code = {}\n",
    "for k, word in enumerate(character_list):\n",
    "    char2code[word] = k\n",
    "    \n",
    "print(char2code)"
   ]
  },
  {
   "cell_type": "code",
   "execution_count": 11,
   "metadata": {},
   "outputs": [
    {
     "name": "stdout",
     "output_type": "stream",
     "text": [
      "{0: ' ', 1: '!', 2: \"'\", 3: '(', 4: ')', 5: ',', 6: '-', 7: '.', 8: '0', 9: '1', 10: '2', 11: '3', 12: '4', 13: '5', 14: '6', 15: '7', 16: '8', 17: '9', 18: ':', 19: ';', 20: '?', 21: 'A', 22: 'B', 23: 'C', 24: 'D', 25: 'E', 26: 'F', 27: 'G', 28: 'H', 29: 'I', 30: 'J', 31: 'K', 32: 'L', 33: 'M', 34: 'N', 35: 'O', 36: 'P', 37: 'Q', 38: 'R', 39: 'S', 40: 'T', 41: 'U', 42: 'V', 43: 'X', 44: 'Y', 45: 'Z', 46: 'a', 47: 'b', 48: 'c', 49: 'd', 50: 'e', 51: 'f', 52: 'g', 53: 'h', 54: 'i', 55: 'j', 56: 'k', 57: 'l', 58: 'm', 59: 'n', 60: 'o', 61: 'p', 62: 'q', 63: 'r', 64: 's', 65: 't', 66: 'u', 67: 'v', 68: 'w', 69: 'x', 70: 'y', 71: 'z', 72: '«', 73: '»', 74: 'Ç', 75: 'É', 76: 'Ê', 77: 'à', 78: 'â', 79: 'ç', 80: 'è', 81: 'é', 82: 'ê', 83: 'ë', 84: 'ô', 85: 'ù', 86: 'û'}\n"
     ]
    }
   ],
   "source": [
    "code2char = {v:k for k,v in char2code.items()}\n",
    "print(code2char)"
   ]
  },
  {
   "cell_type": "markdown",
   "metadata": {},
   "source": [
    "### One-hot encoding"
   ]
  },
  {
   "cell_type": "code",
   "execution_count": 408,
   "metadata": {
    "collapsed": true
   },
   "outputs": [],
   "source": [
    "#from keras.utils.np_utils import to_categorical\n",
    "\n",
    "#categorical_labels = to_categorical(int_labels, num_classes=None)"
   ]
  },
  {
   "cell_type": "code",
   "execution_count": 172,
   "metadata": {
    "collapsed": true
   },
   "outputs": [],
   "source": [
    "def one_hots(sequence, vocab_size=N_char):\n",
    "    result = np.zeros((len(sequence), vocab_size))\n",
    "    for k,s in enumerate(sequence):\n",
    "        idx = char2code[s]\n",
    "        result[k, idx] = 1\n",
    "    return result"
   ]
  },
  {
   "cell_type": "code",
   "execution_count": 173,
   "metadata": {
    "collapsed": true
   },
   "outputs": [],
   "source": [
    "def textify(embedding,character_list = character_list):\n",
    "    result = \"\"\n",
    "    indices = np.argmax(embedding, axis=1)\n",
    "    for idx in indices:\n",
    "        result += character_list[int(idx)]\n",
    "    return result"
   ]
  },
  {
   "cell_type": "markdown",
   "metadata": {},
   "source": [
    "### Prepare dataset"
   ]
  },
  {
   "cell_type": "code",
   "execution_count": 49,
   "metadata": {
    "collapsed": true
   },
   "outputs": [],
   "source": [
    "from sklearn.model_selection import train_test_split"
   ]
  },
  {
   "cell_type": "code",
   "execution_count": 222,
   "metadata": {},
   "outputs": [
    {
     "data": {
      "text/plain": [
       "(412249, 87)"
      ]
     },
     "execution_count": 222,
     "metadata": {},
     "output_type": "execute_result"
    }
   ],
   "source": [
    "raw = one_hots(text)\n",
    "raw.shape"
   ]
  },
  {
   "cell_type": "code",
   "execution_count": 468,
   "metadata": {},
   "outputs": [],
   "source": [
    "window_size = 64\n",
    "step = 16\n",
    "L = raw.shape[0]\n",
    "\n",
    "x,y = [], []\n",
    "for k in np.arange(window_size,L,step):\n",
    "    #print(k,k+window_size)\n",
    "    x.append(raw[k-window_size:k,:])  #Up until (but excluding) k\n",
    "    y.append(raw[k,:])"
   ]
  },
  {
   "cell_type": "code",
   "execution_count": 469,
   "metadata": {},
   "outputs": [
    {
     "name": "stdout",
     "output_type": "stream",
     "text": [
      "(82437, 64, 87) (82437, 87)\n"
     ]
    }
   ],
   "source": [
    "X = np.array(x)\n",
    "Y = np.array(y)\n",
    "print(X.shape,Y.shape)"
   ]
  },
  {
   "cell_type": "code",
   "execution_count": 470,
   "metadata": {},
   "outputs": [
    {
     "name": "stdout",
     "output_type": "stream",
     "text": [
      "(57705, 64, 87) (24732, 64, 87) (57705, 87) (24732, 87)\n"
     ]
    }
   ],
   "source": [
    "Xtrain, Xtest, Ytrain, Ytest = train_test_split(X,Y,train_size=0.7,shuffle=False)\n",
    "print(Xtrain.shape,Xtest.shape,Ytrain.shape, Ytest.shape)"
   ]
  },
  {
   "cell_type": "code",
   "execution_count": 471,
   "metadata": {
    "collapsed": true
   },
   "outputs": [],
   "source": [
    "N_samples = X.shape[0]"
   ]
  },
  {
   "cell_type": "markdown",
   "metadata": {},
   "source": [
    "## Keras model"
   ]
  },
  {
   "cell_type": "markdown",
   "metadata": {},
   "source": [
    "### Core model"
   ]
  },
  {
   "cell_type": "code",
   "execution_count": 475,
   "metadata": {},
   "outputs": [],
   "source": [
    "from keras.models import Sequential\n",
    "from keras.optimizers import RMSprop\n",
    "from keras.layers import Dense, GRU, Embedding, Dropout, LSTM\n",
    "from keras.layers.wrappers import TimeDistributed\n",
    "from keras.callbacks import ModelCheckpoint\n",
    "\n",
    "#from sklearn.metrics import mean_squared_error"
   ]
  },
  {
   "cell_type": "markdown",
   "metadata": {},
   "source": [
    "keras.layers.GRU(units, activation='tanh', recurrent_activation='hard_sigmoid', use_bias=True, kernel_initializer='glorot_uniform', recurrent_initializer='orthogonal', bias_initializer='zeros', kernel_regularizer=None, recurrent_regularizer=None, bias_regularizer=None, activity_regularizer=None, kernel_constraint=None, recurrent_constraint=None, bias_constraint=None, dropout=0.0, recurrent_dropout=0.0, implementation=1, return_sequences=False, return_state=False, go_backwards=False, stateful=False, unroll=False, reset_after=False)\n",
    "\n",
    "Input shape: 3D tensor with shape (batch_size, timesteps, input_dim)"
   ]
  },
  {
   "cell_type": "raw",
   "metadata": {},
   "source": [
    "model = Sequential()\n",
    "#model.add(Embedding(N_char,256))\n",
    "#model.add(Dropout(0.25))\n",
    "model.add(GRU(256, recurrent_dropout=0.25))\n",
    "model.add(Dropout(0.2))\n",
    "#model.add(TimeDistributed(Dense(n_classes, activation='softmax')))\n",
    "model.add(Dense(N_char,activation='softmax'))\n",
    "\n",
    "optimizer = RMSprop(lr=0.05,decay=True)\n",
    "model.compile(loss='categorical_crossentropy', optimizer='rmsprop',metrics=['acc'])\n",
    "#model.summary()"
   ]
  },
  {
   "cell_type": "code",
   "execution_count": 472,
   "metadata": {},
   "outputs": [
    {
     "name": "stdout",
     "output_type": "stream",
     "text": [
      "_________________________________________________________________\n",
      "Layer (type)                 Output Shape              Param #   \n",
      "=================================================================\n",
      "lstm_4 (LSTM)                (None, 256)               352256    \n",
      "_________________________________________________________________\n",
      "dropout_16 (Dropout)         (None, 256)               0         \n",
      "_________________________________________________________________\n",
      "dense_20 (Dense)             (None, 87)                22359     \n",
      "=================================================================\n",
      "Total params: 374,615\n",
      "Trainable params: 374,615\n",
      "Non-trainable params: 0\n",
      "_________________________________________________________________\n"
     ]
    }
   ],
   "source": [
    "model = Sequential()\n",
    "model.add(LSTM(256, input_shape=(window_size, N_char)))\n",
    "model.add(Dropout(0.2))\n",
    "model.add(Dense(N_char, activation='softmax'))\n",
    "model.compile(loss='categorical_crossentropy', optimizer='adam',metrics=['acc'])\n",
    "model.summary()"
   ]
  },
  {
   "cell_type": "code",
   "execution_count": 493,
   "metadata": {},
   "outputs": [],
   "source": [
    "# Define the checkpoint\n",
    "filepath=\"weights-improvement-{epoch:02d}-{val_acc:.4f}.hdf5\"\n",
    "checkpoint = ModelCheckpoint(filepath, monitor='val_acc', verbose=1, save_best_only=True, mode='min')\n",
    "callbacks_list = [checkpoint]"
   ]
  },
  {
   "cell_type": "code",
   "execution_count": 494,
   "metadata": {},
   "outputs": [
    {
     "name": "stdout",
     "output_type": "stream",
     "text": [
      "Train on 57705 samples, validate on 24732 samples\n",
      "Epoch 1/15\n",
      "57705/57705 [==============================] - 305s 5ms/step - loss: 1.2413 - acc: 0.6100 - val_loss: 1.8238 - val_acc: 0.4763\n",
      "\n",
      "Epoch 00001: val_acc improved from inf to 0.47635, saving model to weights-improvement-01-0.4763.hdf5\n",
      "Epoch 2/15\n",
      "57705/57705 [==============================] - 299s 5ms/step - loss: 1.1931 - acc: 0.6230 - val_loss: 1.8404 - val_acc: 0.4757\n",
      "\n",
      "Epoch 00002: val_acc improved from 0.47635 to 0.47566, saving model to weights-improvement-02-0.4757.hdf5\n",
      "Epoch 3/15\n",
      "57705/57705 [==============================] - 1628s 28ms/step - loss: 1.1498 - acc: 0.6361 - val_loss: 1.8700 - val_acc: 0.4705\n",
      "\n",
      "Epoch 00003: val_acc improved from 0.47566 to 0.47052, saving model to weights-improvement-03-0.4705.hdf5\n",
      "Epoch 4/15\n",
      "57705/57705 [==============================] - 310s 5ms/step - loss: 1.1136 - acc: 0.6473 - val_loss: 1.8900 - val_acc: 0.4717\n",
      "\n",
      "Epoch 00004: val_acc did not improve from 0.47052\n",
      "Epoch 5/15\n",
      "57705/57705 [==============================] - 375s 6ms/step - loss: 1.0737 - acc: 0.6574 - val_loss: 1.9237 - val_acc: 0.4674\n",
      "\n",
      "Epoch 00005: val_acc improved from 0.47052 to 0.46737, saving model to weights-improvement-05-0.4674.hdf5\n",
      "Epoch 6/15\n",
      "57705/57705 [==============================] - 350s 6ms/step - loss: 1.0372 - acc: 0.6691 - val_loss: 1.9639 - val_acc: 0.4627\n",
      "\n",
      "Epoch 00006: val_acc improved from 0.46737 to 0.46268, saving model to weights-improvement-06-0.4627.hdf5\n",
      "Epoch 7/15\n",
      "57705/57705 [==============================] - 414s 7ms/step - loss: 1.0070 - acc: 0.6772 - val_loss: 1.9777 - val_acc: 0.4669\n",
      "\n",
      "Epoch 00007: val_acc did not improve from 0.46268\n",
      "Epoch 8/15\n",
      "57705/57705 [==============================] - 330s 6ms/step - loss: 0.9794 - acc: 0.6860 - val_loss: 1.9991 - val_acc: 0.4629\n",
      "\n",
      "Epoch 00008: val_acc did not improve from 0.46268\n",
      "Epoch 9/15\n",
      "57705/57705 [==============================] - 321s 6ms/step - loss: 0.9564 - acc: 0.6925 - val_loss: 2.0357 - val_acc: 0.4625\n",
      "\n",
      "Epoch 00009: val_acc improved from 0.46268 to 0.46252, saving model to weights-improvement-09-0.4625.hdf5\n",
      "Epoch 10/15\n",
      "57705/57705 [==============================] - 357s 6ms/step - loss: 0.9309 - acc: 0.6988 - val_loss: 2.0353 - val_acc: 0.4632\n",
      "\n",
      "Epoch 00010: val_acc did not improve from 0.46252\n",
      "Epoch 11/15\n",
      "57705/57705 [==============================] - 333s 6ms/step - loss: 0.9109 - acc: 0.7043 - val_loss: 2.0753 - val_acc: 0.4607\n",
      "\n",
      "Epoch 00011: val_acc improved from 0.46252 to 0.46074, saving model to weights-improvement-11-0.4607.hdf5\n",
      "Epoch 12/15\n",
      "57705/57705 [==============================] - 415s 7ms/step - loss: 0.8909 - acc: 0.7111 - val_loss: 2.0837 - val_acc: 0.4611\n",
      "\n",
      "Epoch 00012: val_acc did not improve from 0.46074\n",
      "Epoch 13/15\n",
      "57705/57705 [==============================] - 408s 7ms/step - loss: 0.8673 - acc: 0.7178 - val_loss: 2.1111 - val_acc: 0.4596\n",
      "\n",
      "Epoch 00013: val_acc improved from 0.46074 to 0.45957, saving model to weights-improvement-13-0.4596.hdf5\n",
      "Epoch 14/15\n",
      "57705/57705 [==============================] - 299s 5ms/step - loss: 0.8638 - acc: 0.7191 - val_loss: 2.1410 - val_acc: 0.4598\n",
      "\n",
      "Epoch 00014: val_acc did not improve from 0.45957\n",
      "Epoch 15/15\n",
      "57705/57705 [==============================] - 289s 5ms/step - loss: 0.8448 - acc: 0.7249 - val_loss: 2.1672 - val_acc: 0.4564\n",
      "\n",
      "Epoch 00015: val_acc improved from 0.45957 to 0.45641, saving model to weights-improvement-15-0.4564.hdf5\n"
     ]
    }
   ],
   "source": [
    "history = model.fit(Xtrain, Ytrain, batch_size=128, epochs=15, validation_data=(Xtest,Ytest),callbacks=callbacks_list)"
   ]
  },
  {
   "cell_type": "markdown",
   "metadata": {},
   "source": [
    "### Helper functions"
   ]
  },
  {
   "cell_type": "code",
   "execution_count": 485,
   "metadata": {
    "collapsed": true
   },
   "outputs": [],
   "source": [
    "from keras.preprocessing.sequence import pad_sequences"
   ]
  },
  {
   "cell_type": "code",
   "execution_count": 513,
   "metadata": {
    "collapsed": true
   },
   "outputs": [],
   "source": [
    "def predict_next(prefix):\n",
    "    L = len(prefix)\n",
    "    temp = np.zeros(shape=(window_size,N_char))\n",
    "    temp[-L:,:] = one_hots(prefix)[-window_size:]\n",
    "    return model.predict(temp.reshape(1,-1,N_char)).squeeze()"
   ]
  },
  {
   "cell_type": "code",
   "execution_count": 514,
   "metadata": {
    "collapsed": true
   },
   "outputs": [],
   "source": [
    "def sample(preds, temperature=1.0):\n",
    "    # helper function to sample an index from a probability array\n",
    "    preds = np.asarray(preds).astype('float64')\n",
    "    preds = np.log(preds) / temperature\n",
    "    exp_preds = np.exp(preds)\n",
    "    preds = exp_preds / np.sum(exp_preds)\n",
    "    probas = np.random.multinomial(1, preds, 1)\n",
    "\n",
    "    return np.argmax(probas)"
   ]
  },
  {
   "cell_type": "code",
   "execution_count": 515,
   "metadata": {
    "collapsed": true
   },
   "outputs": [],
   "source": [
    "def multi_sample(prefix,n=10,temperature=1.0):\n",
    "    result = []\n",
    "    for _ in range(n):\n",
    "        this = sample(predict_next(prefix),temperature=temperature)\n",
    "        this = code2char[this]\n",
    "        result.append(this)\n",
    "        prefix+=this\n",
    "    return result"
   ]
  },
  {
   "cell_type": "code",
   "execution_count": 516,
   "metadata": {
    "collapsed": true
   },
   "outputs": [],
   "source": [
    "def predict_following(prefix,n=20,temperature=1.0):\n",
    "    return prefix + ''.join(multi_sample(prefix,n,temperature))"
   ]
  },
  {
   "cell_type": "markdown",
   "metadata": {},
   "source": [
    "### Test and visualization"
   ]
  },
  {
   "cell_type": "code",
   "execution_count": 525,
   "metadata": {},
   "outputs": [
    {
     "name": "stdout",
     "output_type": "stream",
     "text": [
      "Temp: 0.05 \t Bonjour cher ami, que je vous dis on prouve gand pour vous devens cet ainse Quelque\n",
      "Temp: 0.1 \t Bonjour cher ami, que je suis avoir ce qu'il n'aveu denter la penseux, et l'on le c\n",
      "Temp: 0.2 \t Bonjour cher ami, que je vous promets. Ah! couvons mon commant de tous ces desseins\n",
      "Temp: 0.5 \t Bonjour cher ami, que je t'en diser. Trouve d'être conne entore d'une aurucilier. P\n",
      "Temp: 1 \t Bonjour cher ami, que j'ai don  ronieure illensse dires, je vous poursiez, Vous tan\n",
      "Temp: 2 \t Bonjour cher ami, que j'ût.. obsans le dée? Moçfidon, vraiment; deffoceuin? s risto\n"
     ]
    }
   ],
   "source": [
    "for temp in [0.05,0.1,0.2,0.5,1,2]:\n",
    "    print('Temp:',temp,'\\t',predict_following('Bonjour cher ami, que j',temperature=temp,n=60))"
   ]
  },
  {
   "cell_type": "code",
   "execution_count": 524,
   "metadata": {},
   "outputs": [
    {
     "data": {
      "image/png": "[encoded data removed]",
      "text/plain": [
       "<Figure size 1152x432 with 2 Axes>"
      ]
     },
     "metadata": {},
     "output_type": "display_data"
    }
   ],
   "source": [
    "import matplotlib.pyplot as plt\n",
    "%matplotlib inline\n",
    "\n",
    "#plt.figure(figsize=(24, 8), dpi= 600);\n",
    "fig, axes = plt.subplots(2,sharex=True,figsize=(16, 6));\n",
    "ax1,ax2 = axes\n",
    "#plt.xscale('log')\n",
    "#plt.yscale('log')\n",
    "\n",
    "ax1.plot(history.history['loss'],'b.-',label='train_loss')\n",
    "ax1.plot(history.history['val_loss'],'r.-',label='validation_loss')\n",
    "ax1.grid();\n",
    "ax1.legend();\n",
    "\n",
    "ax2.plot(history.history['acc'],'cx-',label='train_acc');\n",
    "ax2.plot(history.history['val_acc'],'mx-',label='validation_acc');\n",
    "ax2.grid();\n",
    "ax2.legend();"
   ]
  },
  {
   "cell_type": "code",
   "execution_count": null,
   "metadata": {
    "collapsed": true
   },
   "outputs": [],
   "source": []
  },
  {
   "cell_type": "code",
   "execution_count": null,
   "metadata": {
    "collapsed": true
   },
   "outputs": [],
   "source": []
  }
 ],
 "metadata": {
  "kernelspec": {
   "display_name": "Python 3",
   "language": "python",
   "name": "python3"
  }
 },
 "nbformat": 4,
 "nbformat_minor": 2
}
