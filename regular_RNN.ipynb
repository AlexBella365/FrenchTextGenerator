{
 "cells": [
  {
   "cell_type": "code",
   "execution_count": 33,
   "metadata": {},
   "outputs": [],
   "source": [
    "from __future__ import print_function\n",
    "import mxnet as mx\n",
    "from mxnet import nd, autograd\n",
    "import numpy as np\n",
    "import pickle\n",
    "import re\n",
    "\n",
    "mx.random.seed(1)\n",
    "#ctx = mx.gpu(0)\n",
    "ctx = mx.cpu(0)"
   ]
  },
  {
   "cell_type": "code",
   "execution_count": 34,
   "metadata": {
    "collapsed": true
   },
   "outputs": [],
   "source": [
    "with open(\"data/moliere_1_clean.txt\") as f1:\n",
    "    moliere_1 = f1.read()\n",
    "with open(\"data/moliere_2_clean.txt\") as f2:\n",
    "    moliere_2 = f2.read()\n",
    "with open(\"data/moliere_3_clean.txt\") as f3:\n",
    "    moliere_3 = f3.read()"
   ]
  },
  {
   "cell_type": "code",
   "execution_count": 35,
   "metadata": {
    "collapsed": true
   },
   "outputs": [],
   "source": [
    "text = moliere_1 #+ ' ' + moliere_2 + ' ' + moliere_3"
   ]
  },
  {
   "cell_type": "code",
   "execution_count": 36,
   "metadata": {
    "scrolled": false
   },
   "outputs": [
    {
     "data": {
      "text/plain": [
       "412476"
      ]
     },
     "execution_count": 36,
     "metadata": {},
     "output_type": "execute_result"
    }
   ],
   "source": [
    "len(text)"
   ]
  },
  {
   "cell_type": "code",
   "execution_count": 37,
   "metadata": {},
   "outputs": [
    {
     "data": {
      "text/plain": [
       "\"Eh bien, Sabine, quel conseil me donnes-tu? Vraiment, il y a bien des nouvelles. Mon oncle veut résolûment que ma cousine épouse Villebrequin, et les affaires sont tellement avancées, que je crois qu'\""
      ]
     },
     "execution_count": 37,
     "metadata": {},
     "output_type": "execute_result"
    }
   ],
   "source": [
    "text = text.replace('œ','oe')\n",
    "text = text.replace('æ','ae')\n",
    "text = text.replace('î','i')\n",
    "text = text.replace('ï','i')\n",
    "text = text.replace('º','')\n",
    "text = text.replace('_','')\n",
    "text = text.replace('ñ','n')\n",
    "text = text.replace('λ','')\n",
    "text = text.replace('ο','')\n",
    "text = text.replace('ρ','')\n",
    "text = text.replace('ς','')\n",
    "text = text.replace('φ','')\n",
    "text = text.replace('β','')\n",
    "text = text.replace('ε','')\n",
    "text = text.replace('ι','')\n",
    "\n",
    "text = text.replace('\\n',' ')\n",
    "\n",
    "text = re.sub(r'( )+',' ',text) #remove multiple spaces\n",
    "\n",
    "text[:200]"
   ]
  },
  {
   "cell_type": "code",
   "execution_count": 38,
   "metadata": {},
   "outputs": [
    {
     "name": "stdout",
     "output_type": "stream",
     "text": [
      "Length of vocab: 87\n",
      "[' ', '!', \"'\", '(', ')', ',', '-', '.', '0', '1', '2', '3', '4', '5', '6', '7', '8', '9', ':', ';', '?', 'A', 'B', 'C', 'D', 'E', 'F', 'G', 'H', 'I', 'J', 'K', 'L', 'M', 'N', 'O', 'P', 'Q', 'R', 'S', 'T', 'U', 'V', 'X', 'Y', 'Z', 'a', 'b', 'c', 'd', 'e', 'f', 'g', 'h', 'i', 'j', 'k', 'l', 'm', 'n', 'o', 'p', 'q', 'r', 's', 't', 'u', 'v', 'w', 'x', 'y', 'z', '«', '»', 'Ç', 'É', 'Ê', 'à', 'â', 'ç', 'è', 'é', 'ê', 'ë', 'ô', 'ù', 'û']\n"
     ]
    }
   ],
   "source": [
    "text = text#.lower().split()\n",
    "character_list = list(set(text))\n",
    "vocab_size = len(character_list)\n",
    "character_list.sort()\n",
    "print(\"Length of vocab: %s\" % vocab_size)\n",
    "print(character_list)"
   ]
  },
  {
   "cell_type": "code",
   "execution_count": 39,
   "metadata": {
    "collapsed": true
   },
   "outputs": [],
   "source": [
    "character_dict = {}\n",
    "for k, word in enumerate(character_list):\n",
    "    character_dict[word] = k\n",
    "#print(character_dict)"
   ]
  },
  {
   "cell_type": "code",
   "execution_count": 40,
   "metadata": {},
   "outputs": [
    {
     "name": "stdout",
     "output_type": "stream",
     "text": [
      "[25, 53, 0, 47, 54, 50, 59, 5, 0, 39, 46, 47, 54, 59, 50, 5, 0, 62, 66, 50]\n",
      "Eh bien, Sabine, que\n"
     ]
    }
   ],
   "source": [
    "text_numerical = [character_dict[word] for word in text]\n",
    "\n",
    "print(text_numerical[:20])\n",
    "print(\"\".join([character_list[idx] for idx in text_numerical[:20]]))"
   ]
  },
  {
   "cell_type": "code",
   "execution_count": 41,
   "metadata": {
    "collapsed": true
   },
   "outputs": [],
   "source": [
    "def one_hots(numerical_list, vocab_size=vocab_size):\n",
    "    result = nd.zeros((len(numerical_list), vocab_size), ctx=ctx)\n",
    "    for i, idx in enumerate(numerical_list):\n",
    "        result[i, idx] = 1.0\n",
    "    return result"
   ]
  },
  {
   "cell_type": "code",
   "execution_count": 42,
   "metadata": {
    "collapsed": true
   },
   "outputs": [],
   "source": [
    "def textify(embedding):\n",
    "    result = \"\"\n",
    "    indices = nd.argmax(embedding, axis=1).asnumpy()\n",
    "    for idx in indices:\n",
    "        result += character_list[int(idx)]\n",
    "    return result"
   ]
  },
  {
   "cell_type": "code",
   "execution_count": 43,
   "metadata": {},
   "outputs": [
    {
     "name": "stdout",
     "output_type": "stream",
     "text": [
      "\n",
      "[[ 0.  0.  0.  0.  0.  0.  0.  0.  0.  0.  0.  0.  0.  0.  0.  0.  0.  0.\n",
      "   0.  0.  0.  0.  0.  0.  0.  1.  0.  0.  0.  0.  0.  0.  0.  0.  0.  0.\n",
      "   0.  0.  0.  0.  0.  0.  0.  0.  0.  0.  0.  0.  0.  0.  0.  0.  0.  0.\n",
      "   0.  0.  0.  0.  0.  0.  0.  0.  0.  0.  0.  0.  0.  0.  0.  0.  0.  0.\n",
      "   0.  0.  0.  0.  0.  0.  0.  0.  0.  0.  0.  0.  0.  0.  0.]\n",
      " [ 0.  0.  0.  0.  0.  0.  0.  0.  0.  0.  0.  0.  0.  0.  0.  0.  0.  0.\n",
      "   0.  0.  0.  0.  0.  0.  0.  0.  0.  0.  0.  0.  0.  0.  0.  0.  0.  0.\n",
      "   0.  0.  0.  0.  0.  0.  0.  0.  0.  0.  0.  0.  0.  0.  0.  0.  0.  1.\n",
      "   0.  0.  0.  0.  0.  0.  0.  0.  0.  0.  0.  0.  0.  0.  0.  0.  0.  0.\n",
      "   0.  0.  0.  0.  0.  0.  0.  0.  0.  0.  0.  0.  0.  0.  0.]]\n",
      "<NDArray 2x87 @cpu(0)>\n"
     ]
    }
   ],
   "source": [
    "print(one_hots(text_numerical[:2]))"
   ]
  },
  {
   "cell_type": "code",
   "execution_count": 44,
   "metadata": {},
   "outputs": [
    {
     "data": {
      "text/plain": [
       "\"ils eussent été mariés dès aujourd'hui, si vous n'étiez aimé; mais, comme ma cousine m'a confié le secret de l'amour qu'elle vous porte, et que nous nous sommes vues à l'extrémité \""
      ]
     },
     "execution_count": 44,
     "metadata": {},
     "output_type": "execute_result"
    }
   ],
   "source": [
    "textify(one_hots(text_numerical[200:380]))"
   ]
  },
  {
   "cell_type": "code",
   "execution_count": 45,
   "metadata": {},
   "outputs": [
    {
     "data": {
      "text/plain": [
       "'Eh bien, Sabine, quel conseil me donnes-tu? Vraiment, il y a bie'"
      ]
     },
     "execution_count": 45,
     "metadata": {},
     "output_type": "execute_result"
    }
   ],
   "source": [
    "seq_length = 64\n",
    "# -1 here so we have enough characters for labels later\n",
    "num_samples = (len(text_numerical) - 1) // seq_length\n",
    "dataset = one_hots(text_numerical[:seq_length*num_samples]).reshape((num_samples, seq_length, vocab_size))\n",
    "textify(dataset[0])"
   ]
  },
  {
   "cell_type": "code",
   "execution_count": 46,
   "metadata": {},
   "outputs": [
    {
     "name": "stdout",
     "output_type": "stream",
     "text": [
      "# of sequences in dataset:  6441\n",
      "# of batches:  201\n",
      "Shape of data set:  (201, 64, 32, 87)\n"
     ]
    }
   ],
   "source": [
    "batch_size = 32\n",
    "print('# of sequences in dataset: ', len(dataset))\n",
    "num_batches = len(dataset) // batch_size\n",
    "print('# of batches: ', num_batches)\n",
    "train_data = dataset[:num_batches*batch_size].reshape((num_batches, batch_size, seq_length, vocab_size))\n",
    "# swap batch_size and seq_length axis to make later access easier\n",
    "train_data = nd.swapaxes(train_data, 1, 2)\n",
    "print('Shape of data set: ', train_data.shape)"
   ]
  },
  {
   "cell_type": "code",
   "execution_count": 47,
   "metadata": {},
   "outputs": [
    {
     "name": "stdout",
     "output_type": "stream",
     "text": [
      "(201, 64, 32, 87)\n"
     ]
    }
   ],
   "source": [
    "labels = one_hots(text_numerical[1:seq_length*num_samples+1])\n",
    "train_label = labels.reshape((num_batches, batch_size, seq_length, vocab_size))\n",
    "train_label = nd.swapaxes(train_label, 1, 2)\n",
    "print(train_label.shape)"
   ]
  },
  {
   "cell_type": "code",
   "execution_count": 48,
   "metadata": {},
   "outputs": [
    {
     "data": {
      "text/plain": [
       "7"
      ]
     },
     "execution_count": 48,
     "metadata": {},
     "output_type": "execute_result"
    }
   ],
   "source": [
    "powerof2 = np.ceil(np.log2(vocab_size)).astype(int)\n",
    "powerof2"
   ]
  },
  {
   "cell_type": "code",
   "execution_count": 49,
   "metadata": {},
   "outputs": [
    {
     "data": {
      "text/plain": [
       "256"
      ]
     },
     "execution_count": 49,
     "metadata": {},
     "output_type": "execute_result"
    }
   ],
   "source": [
    "num_inputs = vocab_size\n",
    "num_hidden = 2**(powerof2+1)\n",
    "num_outputs = vocab_size\n",
    "\n",
    "num_hidden"
   ]
  },
  {
   "cell_type": "code",
   "execution_count": 50,
   "metadata": {
    "collapsed": true
   },
   "outputs": [],
   "source": [
    "#  Weights connecting the inputs to the hidden layer\n",
    "Wxh = nd.random_normal(shape=(num_inputs,num_hidden), ctx=ctx) * .01\n",
    "\n",
    "#  Recurrent weights connecting the hidden layer across time steps\n",
    "Whh = nd.random_normal(shape=(num_hidden,num_hidden), ctx=ctx)* .01\n",
    "\n",
    "#  Bias vector for hidden layer\n",
    "bh = nd.random_normal(shape=num_hidden, ctx=ctx) * .01\n",
    "\n",
    "# Weights to the output nodes\n",
    "Why = nd.random_normal(shape=(num_hidden,num_outputs), ctx=ctx) * .01\n",
    "by = nd.random_normal(shape=num_outputs, ctx=ctx) * .01"
   ]
  },
  {
   "cell_type": "code",
   "execution_count": 51,
   "metadata": {
    "collapsed": true
   },
   "outputs": [],
   "source": [
    "params = [Wxh, Whh, bh, Why, by]\n",
    "\n",
    "for param in params:\n",
    "    param.attach_grad()"
   ]
  },
  {
   "cell_type": "code",
   "execution_count": null,
   "metadata": {
    "collapsed": true
   },
   "outputs": [],
   "source": []
  },
  {
   "cell_type": "code",
   "execution_count": 52,
   "metadata": {
    "collapsed": true
   },
   "outputs": [],
   "source": [
    "def softmax(y_linear, temperature=1.0):\n",
    "    lin = (y_linear-nd.max(y_linear)) / temperature\n",
    "    exp = nd.exp(lin)\n",
    "    partition =nd.sum(exp, axis=0, exclude=True).reshape((-1,1))\n",
    "    return exp / partition"
   ]
  },
  {
   "cell_type": "code",
   "execution_count": 53,
   "metadata": {
    "collapsed": true
   },
   "outputs": [],
   "source": [
    "def simple_rnn(inputs, state, temperature=1.0):\n",
    "    outputs = []\n",
    "    h = state\n",
    "    for X in inputs:\n",
    "        h_linear = nd.dot(X, Wxh) + nd.dot(h, Whh) + bh\n",
    "        h = nd.tanh(h_linear)\n",
    "        yhat_linear = nd.dot(h, Why) + by\n",
    "        yhat = softmax(yhat_linear, temperature=temperature)\n",
    "        outputs.append(yhat)\n",
    "    return (outputs, h)"
   ]
  },
  {
   "cell_type": "code",
   "execution_count": 54,
   "metadata": {
    "collapsed": true
   },
   "outputs": [],
   "source": [
    "def cross_entropy(yhat, y):\n",
    "    return - nd.mean(nd.sum(y * nd.log(yhat), axis=0, exclude=True))"
   ]
  },
  {
   "cell_type": "code",
   "execution_count": 55,
   "metadata": {
    "collapsed": true
   },
   "outputs": [],
   "source": [
    "def average_ce_loss(outputs, labels):\n",
    "    assert(len(outputs) == len(labels))\n",
    "    total_loss = 0.\n",
    "    for (output, label) in zip(outputs,labels):\n",
    "        total_loss = total_loss + cross_entropy(output, label)\n",
    "    return total_loss / len(outputs)"
   ]
  },
  {
   "cell_type": "code",
   "execution_count": 56,
   "metadata": {
    "collapsed": true
   },
   "outputs": [],
   "source": [
    "def SGD(params, lr):\n",
    "    for param in params:\n",
    "        param[:] = param - lr * param.grad"
   ]
  },
  {
   "cell_type": "code",
   "execution_count": 57,
   "metadata": {
    "collapsed": true
   },
   "outputs": [],
   "source": [
    "def sample(prefix, num_chars, temperature=1.0):\n",
    "\n",
    "    # Initialize the string that we'll return to the supplied prefix\n",
    "    string = prefix\n",
    "\n",
    "    # Prepare the prefix as a sequence of one-hots for ingestion by RNN\n",
    "    prefix_numerical = [character_dict[char] for char in prefix]\n",
    "    input = one_hots(prefix_numerical)\n",
    "\n",
    "    # Set the initial state of the hidden representation ($h_0$) to the zero vector\n",
    "    sample_state = nd.zeros(shape=(1, num_hidden), ctx=ctx)\n",
    "\n",
    "    # For num_chars iterations,\n",
    "    #     1) feed in the current input\n",
    "    #     2) sample next character from from output distribution\n",
    "    #     3) add sampled character to the decoded string\n",
    "    #     4) prepare the sampled character as a one_hot (to be the next input)\n",
    "    for i in range(num_chars):\n",
    "        outputs, sample_state = simple_rnn(input, sample_state, temperature=temperature)\n",
    "        choice = np.random.choice(vocab_size, p=outputs[-1][0].asnumpy())\n",
    "        string += character_list[choice]\n",
    "        input = one_hots([choice])\n",
    "    return string"
   ]
  },
  {
   "cell_type": "code",
   "execution_count": 58,
   "metadata": {
    "collapsed": true
   },
   "outputs": [],
   "source": [
    "moving_loss = 0.0\n",
    "learning_rate = 0.5\n",
    "\n",
    "losses = []"
   ]
  },
  {
   "cell_type": "code",
   "execution_count": 59,
   "metadata": {},
   "outputs": [
    {
     "data": {
      "text/plain": [
       "'\\nwith open(\"output/saveState.pickle\",\"rb\") as open_file:\\n    dic = pickle.load(open_file)\\nparams = dic[\\'params\\']\\n'"
      ]
     },
     "execution_count": 59,
     "metadata": {},
     "output_type": "execute_result"
    }
   ],
   "source": [
    "'''\n",
    "with open(\"output/saveState.pickle\",\"rb\") as open_file:\n",
    "    dic = pickle.load(open_file)\n",
    "params = dic['params']\n",
    "'''"
   ]
  },
  {
   "cell_type": "code",
   "execution_count": 60,
   "metadata": {
    "collapsed": true
   },
   "outputs": [],
   "source": [
    "epochs = 200"
   ]
  },
  {
   "cell_type": "code",
   "execution_count": 61,
   "metadata": {},
   "outputs": [
    {
     "name": "stdout",
     "output_type": "stream",
     "text": [
      "******** Epoch 0 | Loss: 3.19136568867\n",
      "Bonjouacu ro't larese dauisn dentt puuesleerenurenta paut deue mourt deureialutsendl v\n",
      "Bonjoue de de dous de dous de de dous de de dous dous de de douse dous de de dous dous\n",
      "Bonjour cher ami, je sue dous dous dous de de douse douse dous dous dous de de de dous de de de deis do\n",
      "==== Model saved ====\n",
      "\n",
      "******** Epoch 10 | Loss: 2.06925625959\n",
      "Bonjour de vour pout que vous moit que veus sur vois son rrait que pour au sain coure \n",
      "Bonjour de cous de cout de vous mon cour de vous mon cour de vous moi vous mon contre \n",
      "Bonjour cher ami, je sui vous pour de moi vous mon de vous mon cour de vous mon cour de pous mon contre\n",
      "==== Model saved ====\n",
      "\n",
      "******** Epoch 20 | Loss: 1.81735756457\n",
      "Bonjour tout si vous prespres de vous point dont pordeur son coeur dont sis de mon tre\n",
      "Bonjour son cours proppe dont les coups son coeur son cours de son coeur son coupre do\n",
      "Bonjour cher ami, je suis point de contre au soit pour mon coeur son coeur son coeur son coeur son coeu\n",
      "==== Model saved ====\n",
      "\n",
      "******** Epoch 30 | Loss: 1.65734904482\n",
      "Bonjours c'est point d'autre apposte dans comme vous ce qu'il ne soit pas souville de \n",
      "Bonjour son coeur de son coeur de son coeur de son coeur de toutes moins de tout ce qu\n",
      "Bonjour cher ami, je suis pas de son coeur de tout ce qu'il vous prompt mon coeur de mon coeur de son c\n",
      "==== Model saved ====\n",
      "\n",
      "******** Epoch 40 | Loss: 1.58158187045\n",
      "Bonjours d'une moi d'appriveurs doute ometté détit de ce la chercher l'origine d'un se\n",
      "Bonjours moi de ce qu'il m'a pas de son coeur de tout se peut de mon coeur est contre \n",
      "Bonjour cher ami, je suis pas de ce pour vous son coeur est sort que je vous prompt de tout ce que je v\n",
      "==== Model saved ====\n",
      "\n",
      "******** Epoch 50 | Loss: 1.52661792016\n",
      "Bonjours que l'avoir de vos coups avec quelque donner la contre pourraitée Qu'il faut \n",
      "Bonjours soupçons qu'on doit sa plaire, Et qu'il vous a fait sorter les coups son coeu\n",
      "Bonjour cher ami, je suis point d'un rival mal rendre un prus de toute sa puisse courroux, Et qu'il se \n",
      "==== Model saved ====\n",
      "\n",
      "******** Epoch 60 | Loss: 1.47213365805\n",
      "Bonjours de ne vous point de ces mourez à ce qu'il mouvelle aux souffrer de vos bouill\n",
      "Bonjours de mon coeur de tous les discours sont mon coeur de tous cours d'un rival que\n",
      "Bonjour cher ami, je suis pas de mon coeur de tous les discours soupçons qu'il se fait soupçons qu'il s\n",
      "==== Model saved ====\n",
      "\n",
      "******** Epoch 70 | Loss: 1.44817106053\n",
      "Bonjours que je me voilà mon amour heureux sans faire un prince et mête de souffrer qu\n",
      "Bonjours de la plus doute à la contre mon coeur de tous les déplintre est de vous cont\n",
      "Bonjour cher ami, je suis de ses voeux soit au précieux de ce que je vous avez pas de cette contre la m\n",
      "==== Model saved ====\n",
      "\n",
      "******** Epoch 80 | Loss: 1.43575797771\n",
      "Bonjours moi de douceur votre bras à repu de qu'on pout confarme vois qu'il m'a fait s\n",
      "Bonjours d'un son coeur de mon coeur de cette conserver à nos destinée au moins d'un r\n",
      "Bonjour cher ami, je suis de ses voeux de mon coeur de cette morte à la fait sans mon coeur de mon coeu\n",
      "==== Model saved ====\n",
      "\n",
      "******** Epoch 90 | Loss: 1.40925040329\n",
      "Bonjourd'heureux cette part à le mon coeur irsu de mon père un souvent être vous sont \n",
      "Bonjours d'un soin de votre coeur de cette de vous de cette vient de me faire un peu d\n",
      "Bonjour cher ami, je suis pas de me roi de ses vous de la partient de se voir la renouvion de mon coeur\n",
      "==== Model saved ====\n",
      "\n",
      "******** Epoch 100 | Loss: 1.40647356931\n",
      "Bonjours n'aura pas sa petite. Oui, ce fait vous avez l'ardeurs nouvelle saissoit au m\n",
      "Bonjoure où je suis si prompte secours de votre amour au moins pour vous de moi, Et qu\n",
      "Bonjour cher ami, je suis pas de ce coeur au moins de l'actent de ce pouvoir souffrir que d'un rival se\n",
      "==== Model saved ====\n",
      "\n",
      "******** Epoch 110 | Loss: 1.40063074068\n",
      "Bonjourez, ce servit, compates, Proigner savoir malacher un souffrir que l'autre de me\n",
      "Bonjoure Que je me veux me tourne de vos coeur de me dérice, Et quelle de votre coeur \n",
      "Bonjour cher ami, je suis pas de ses voeux de mon âme en son coeur de mon coeur de l'un pour moi de me \n",
      "==== Model saved ====\n",
      "\n",
      "******** Epoch 120 | Loss: 1.37842509359\n",
      "Bonjours que votre amour, Je vous promets son coeur et de me voir à me donner me cette\n",
      "Bonjoure où je vous priez son coeur aussi bien par de votre amour notre honteur de ce \n",
      "Bonjour cher ami, je suis pas que je vous ai pas de sa pensée. Vous vous de toute l'archaisse fait que \n",
      "==== Model saved ====\n",
      "\n",
      "******** Epoch 130 | Loss: 1.3756923864\n",
      "Bonjours d'un si promptement à doute le première Et voir que je m'en vais laissez-vous\n",
      "Bonjours qu'il vous prendre un autre au soit de ce point de l'appriser l'instir de vou\n",
      "Bonjour cher ami, je suis pas de son coeur aussi le comparesse à courroux mon coeur de l'homme de soupç\n",
      "==== Model saved ====\n",
      "\n",
      "******** Epoch 140 | Loss: 1.37168861612\n",
      "Bonjours son coeur tout s alors, Que m'avoit pas de ses vous de ces lieux sans de la f\n",
      "Bonjours son coeur au dieux de toute la croire autre contenter la plus dout contre moi\n",
      "Bonjour cher ami, je suis de son coeur nous voir moi de tout ce qui s'obst comme un peu de toute ma fai\n",
      "==== Model saved ====\n",
      "\n",
      "******** Epoch 150 | Loss: 1.35165126236\n",
      "Bonjourd'ex s aven avoir d'autres sent mes sentimens qu'il est vrai de ses yers de tro\n",
      "Bonjours son coeur au moins propre courroux mon âme souver, Et que vous aurois toute l\n",
      "Bonjour cher ami, je suis pas soi de sa famille et de l'autre content de moi se répassez à la vaine de \n",
      "==== Model saved ====\n",
      "\n",
      "******** Epoch 160 | Loss: 1.35185894841\n",
      "Bonjours son coeur avoir de la rence est pas pour lui l'habine. Ma faiscours, dans ses\n",
      "Bonjours son coeur autre coupable à des transports d'un si promptement de son coeur no\n",
      "Bonjour cher ami, je suis de toutes deux de ses voeux doute contre moi des des soins de tout ce qu'il f\n",
      "==== Model saved ====\n",
      "\n",
      "******** Epoch 170 | Loss: 1.34866016175\n",
      "Bonjoure où je vous en prince en a fait que j'acre pour vous parler avec la point de c\n",
      "Bonjoure où je suis la moins que tous les soins que je vous prie suit son coeur nous a\n",
      "Bonjour cher ami, je suis pas de ce qu'on vous prie de l'appriser l'importune de me sort à ce coup rend\n",
      "==== Model saved ====\n",
      "\n",
      "******** Epoch 180 | Loss: 1.33105183066\n",
      "Bonjourez que de tous vos démons on doit pour maure, qu'on moi, et dont ils de mon coe\n",
      "Bonjourez de votre coeur de l'acte IV des soupçons le point de l'en vous avez de son s\n",
      "Bonjour cher ami, je suis pour vous avez lui soupçons qu'en mon âme se votre amour nouvelle s'est ce qu\n",
      "==== Model saved ====\n",
      "\n",
      "******** Epoch 190 | Loss: 1.33309348128\n",
      "Bonjours vous une foibles qu'il veux voeux vous ma venir les moyens d'un sont reculié,\n",
      "Bonjours son coeur n'est pas un trop de désordre les coups son coeur de l'action les d\n",
      "Bonjour cher ami, je suis pour vous point de l'espoir de votre coeur de l'une fille en tout ce que je v\n",
      "==== Model saved ====\n",
      "\n"
     ]
    }
   ],
   "source": [
    "for e in range(epochs):\n",
    "    ############################\n",
    "    # Attenuate the learning rate by 20% every 30 epochs.\n",
    "    ############################\n",
    "    if ((e+1) % 30 == 0):\n",
    "        learning_rate = learning_rate * 0.8\n",
    "    \n",
    "    state = nd.zeros(shape=(batch_size, num_hidden), ctx=ctx)\n",
    "    for i in range(num_batches):\n",
    "        data_one_hot = train_data[i]\n",
    "        label_one_hot = train_label[i]\n",
    "        with autograd.record():\n",
    "            outputs, state = simple_rnn(data_one_hot, state)\n",
    "            loss = average_ce_loss(outputs, label_one_hot)\n",
    "            loss.backward()\n",
    "        SGD(params, learning_rate)\n",
    "\n",
    "        ##########################\n",
    "        #  Keep a moving average of the losses\n",
    "        ##########################\n",
    "        if (i == 0) and (e == 0):\n",
    "            moving_loss = np.mean(loss.asnumpy()[0])\n",
    "        else:\n",
    "            moving_loss = 0.99 * moving_loss + 0.01 * np.mean(loss.asnumpy()[0])\n",
    "    \n",
    "    losses.append(moving_loss)\n",
    "    \n",
    "    if e%10 == 0:\n",
    "        print(\"******** Epoch %s | Loss: %s\" % (e, moving_loss))\n",
    "        print(sample(\"Bonjou\", 80, temperature=0.5))\n",
    "        print(sample(\"Bonjou\", 80, temperature=0.1))\n",
    "        print(sample(\"Bonjour cher ami, je su\", 80, temperature=0.1))\n",
    "        \n",
    "        with open(\"output/saveState.pickle\",\"wb\") as save_file:\n",
    "            to_save = {'loss':losses,'params': params,'num_hidden':num_hidden,'character_list':character_list}\n",
    "            pickle.dump(to_save, save_file)\n",
    "            print('==== Model saved ====')\n",
    "        \n",
    "        print('')"
   ]
  },
  {
   "cell_type": "code",
   "execution_count": 62,
   "metadata": {},
   "outputs": [
    {
     "data": {
      "image/png": "[encoded data removed]",
      "text/plain": [
       "<matplotlib.figure.Figure at 0x1544f61470>"
      ]
     },
     "metadata": {},
     "output_type": "display_data"
    }
   ],
   "source": [
    "import matplotlib.pyplot as plt\n",
    "%matplotlib inline\n",
    "\n",
    "plt.figure(figsize=(24, 8), dpi= 200)\n",
    "plt.plot(range(len(losses)),losses,'.-')\n",
    "plt.grid()"
   ]
  },
  {
   "cell_type": "code",
   "execution_count": null,
   "metadata": {
    "collapsed": true
   },
   "outputs": [],
   "source": []
  }
 ],
 "metadata": {
  "kernelspec": {
   "display_name": "Python 3",
   "language": "python",
   "name": "python3"
  },
  "language_info": {
   "codemirror_mode": {
    "name": "ipython",
    "version": 3
   },
   "file_extension": ".py",
   "mimetype": "text/x-python",
   "name": "python",
   "nbconvert_exporter": "python",
   "pygments_lexer": "ipython3",
   "version": "3.6.6"
  }
 },
 "nbformat": 4,
 "nbformat_minor": 2
}
